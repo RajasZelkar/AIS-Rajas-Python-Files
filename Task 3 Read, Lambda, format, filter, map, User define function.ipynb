{
 "cells": [
  {
   "cell_type": "markdown",
   "id": "d9fe4ac9",
   "metadata": {},
   "source": [
    "# Lambda"
   ]
  },
  {
   "cell_type": "code",
   "execution_count": 6,
   "id": "50ffbaee",
   "metadata": {},
   "outputs": [
    {
     "name": "stdout",
     "output_type": "stream",
     "text": [
      "14\n"
     ]
    }
   ],
   "source": [
    "x = lambda j,k,l,m : j*k-l+m\n",
    "print(x(5,2,4,8))"
   ]
  },
  {
   "cell_type": "code",
   "execution_count": 7,
   "id": "70d2821c",
   "metadata": {},
   "outputs": [
    {
     "name": "stdout",
     "output_type": "stream",
     "text": [
      "17\n"
     ]
    }
   ],
   "source": [
    "x = lambda a,b,c : a+b*c\n",
    "print(x(3,7,2))"
   ]
  },
  {
   "cell_type": "markdown",
   "id": "80d6786f",
   "metadata": {},
   "source": [
    "# Format"
   ]
  },
  {
   "cell_type": "code",
   "execution_count": 12,
   "id": "2da8ae88",
   "metadata": {},
   "outputs": [
    {
     "name": "stdout",
     "output_type": "stream",
     "text": [
      "My name is Raj, I'm 25\n"
     ]
    }
   ],
   "source": [
    "format1 = \"My name is {}, I'm {}\".format(\"Raj\",25)\n",
    "print(format1)"
   ]
  },
  {
   "cell_type": "code",
   "execution_count": 9,
   "id": "a066bc93",
   "metadata": {},
   "outputs": [
    {
     "name": "stdout",
     "output_type": "stream",
     "text": [
      "My name is Rajas, I'm 25\n"
     ]
    }
   ],
   "source": [
    "format1 = \"My name is {name}, I'm {age}\".format(age = 25,name = \"Rajas\")\n",
    "print(format1)"
   ]
  },
  {
   "cell_type": "markdown",
   "id": "5ff5895a",
   "metadata": {},
   "source": [
    "# Filter"
   ]
  },
  {
   "cell_type": "code",
   "execution_count": 1,
   "id": "18115919",
   "metadata": {},
   "outputs": [
    {
     "data": {
      "text/plain": [
       "['Raju']"
      ]
     },
     "execution_count": 1,
     "metadata": {},
     "output_type": "execute_result"
    }
   ],
   "source": [
    "lst = [\"Rajas\",\"Raj\",\"Raju\",\"Paras\",\"Raja\"]\n",
    "list(filter(lambda x:x==\"Raju\",lst))"
   ]
  },
  {
   "cell_type": "code",
   "execution_count": 4,
   "id": "d50a6709",
   "metadata": {},
   "outputs": [
    {
     "name": "stdout",
     "output_type": "stream",
     "text": [
      "[1, 3, 5, 13]\n",
      "[0, 2, 8]\n"
     ]
    }
   ],
   "source": [
    "n = [0, 1, 2, 3, 5, 8, 13]\n",
    "#shows odd numbers\n",
    "result = filter(lambda x: x % 2 != 0, n)\n",
    "print(list(result))\n",
    "\n",
    "#shows even numbers\n",
    "result = filter(lambda x: x % 2 == 0, n)\n",
    "print(list(result)) "
   ]
  },
  {
   "cell_type": "markdown",
   "id": "2926ddc3",
   "metadata": {},
   "source": [
    "# Map"
   ]
  },
  {
   "cell_type": "code",
   "execution_count": 5,
   "id": "32a91b87",
   "metadata": {},
   "outputs": [
    {
     "data": {
      "text/plain": [
       "[5, 6, 7, 8, 9, 10, 11, 12, 13, 14]"
      ]
     },
     "execution_count": 5,
     "metadata": {},
     "output_type": "execute_result"
    }
   ],
   "source": [
    "n = [0,1,2,3,4,5,6,7,8,9]\n",
    "list(map(lambda x:x+5,n))"
   ]
  },
  {
   "cell_type": "code",
   "execution_count": 6,
   "id": "34f42931",
   "metadata": {},
   "outputs": [
    {
     "data": {
      "text/plain": [
       "[4, 6, 12, 16, 6, 2, 10, 18]"
      ]
     },
     "execution_count": 6,
     "metadata": {},
     "output_type": "execute_result"
    }
   ],
   "source": [
    "n = [2,3,6,8,3,1,5,9]\n",
    "list(map(lambda x:x*2,n))"
   ]
  },
  {
   "cell_type": "markdown",
   "id": "76872906",
   "metadata": {},
   "source": [
    "# User Defined Function"
   ]
  },
  {
   "cell_type": "code",
   "execution_count": 7,
   "id": "9ea0a830",
   "metadata": {},
   "outputs": [
    {
     "name": "stdout",
     "output_type": "stream",
     "text": [
      "even\n"
     ]
    }
   ],
   "source": [
    "def evenOdd(x):\n",
    "    if (x % 2 == 0):\n",
    "        print(\"even\")\n",
    "    else:\n",
    "        print(\"odd\")\n",
    "evenOdd(2)"
   ]
  },
  {
   "cell_type": "code",
   "execution_count": 9,
   "id": "1b07177d",
   "metadata": {},
   "outputs": [
    {
     "name": "stdout",
     "output_type": "stream",
     "text": [
      "Average of  3  and  4  is  3.5\n"
     ]
    }
   ],
   "source": [
    "def avg(x, y):\n",
    "    print(\"Average of \",x,\" and \",y, \" is \",(x+y)/2)\n",
    "avg(3, 4)"
   ]
  }
 ],
 "metadata": {
  "kernelspec": {
   "display_name": "Python 3 (ipykernel)",
   "language": "python",
   "name": "python3"
  },
  "language_info": {
   "codemirror_mode": {
    "name": "ipython",
    "version": 3
   },
   "file_extension": ".py",
   "mimetype": "text/x-python",
   "name": "python",
   "nbconvert_exporter": "python",
   "pygments_lexer": "ipython3",
   "version": "3.9.12"
  }
 },
 "nbformat": 4,
 "nbformat_minor": 5
}
