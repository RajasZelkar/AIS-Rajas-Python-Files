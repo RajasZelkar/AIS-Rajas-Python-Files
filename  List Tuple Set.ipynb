{
 "cells": [
  {
   "cell_type": "markdown",
   "id": "8f34201d",
   "metadata": {},
   "source": [
    "# List\n"
   ]
  },
  {
   "cell_type": "markdown",
   "id": "1738c3f3",
   "metadata": {},
   "source": [
    "* Stores multiple values in one variable.\n",
    "* Created using square brackets.\n",
    "* Items in list can be changed, are in order which will not change and allows duplicate items. \n"
   ]
  },
  {
   "cell_type": "code",
   "execution_count": 3,
   "id": "1c3f311f",
   "metadata": {},
   "outputs": [
    {
     "name": "stdout",
     "output_type": "stream",
     "text": [
      "['Pineapple', 'Mango', 'Grapes', 'Apple', 'Watermelon']\n"
     ]
    }
   ],
   "source": [
    "#How to create a list?\n",
    "list1 = [\"Pineapple\",\"Mango\",\"Grapes\",\"Apple\",\"Watermelon\"]\n",
    "print(list1)"
   ]
  },
  {
   "cell_type": "code",
   "execution_count": 4,
   "id": "5ce530c2",
   "metadata": {},
   "outputs": [
    {
     "name": "stdout",
     "output_type": "stream",
     "text": [
      "['Apple', 'Mango', 'Grapes', 'Apple', 'Grapes']\n"
     ]
    }
   ],
   "source": [
    "#Allow duplicates\n",
    "list2 = [\"Apple\",\"Mango\",\"Grapes\",\"Apple\",\"Grapes\"]\n",
    "print(list2)"
   ]
  },
  {
   "cell_type": "code",
   "execution_count": 6,
   "id": "a68149db",
   "metadata": {},
   "outputs": [
    {
     "name": "stdout",
     "output_type": "stream",
     "text": [
      "<class 'list'>\n"
     ]
    }
   ],
   "source": [
    "#How to check the type of data?\n",
    "list1 = [\"Pineapple\",\"Mango\",\"Grapes\",\"Apple\",\"Watermelon\"]\n",
    "print(type(list1))"
   ]
  },
  {
   "cell_type": "code",
   "execution_count": 8,
   "id": "27f87ed4",
   "metadata": {},
   "outputs": [
    {
     "name": "stdout",
     "output_type": "stream",
     "text": [
      "5\n"
     ]
    }
   ],
   "source": [
    "#How to check the length of list?\n",
    "list1 = [\"Pineapple\",\"Mango\",\"Grapes\",\"Apple\",\"Watermelon\"]\n",
    "print(len(list1))"
   ]
  },
  {
   "cell_type": "markdown",
   "id": "45cee652",
   "metadata": {},
   "source": [
    "# Access List Items"
   ]
  },
  {
   "cell_type": "code",
   "execution_count": 10,
   "id": "6de1c46a",
   "metadata": {},
   "outputs": [
    {
     "name": "stdout",
     "output_type": "stream",
     "text": [
      "Grapes\n"
     ]
    }
   ],
   "source": [
    "#How to access items from the list?\n",
    "list1 = [\"Pineapple\",\"Mango\",\"Grapes\",\"Apple\",\"Watermelon\"]\n",
    "print(list1[2])"
   ]
  },
  {
   "cell_type": "code",
   "execution_count": 11,
   "id": "cd1f9a4c",
   "metadata": {},
   "outputs": [
    {
     "name": "stdout",
     "output_type": "stream",
     "text": [
      "Apple\n"
     ]
    }
   ],
   "source": [
    "#How to access items using negative indexing?\n",
    "list1 = [\"Pineapple\",\"Mango\",\"Grapes\",\"Apple\",\"Watermelon\"]\n",
    "print(list1[-2])"
   ]
  },
  {
   "cell_type": "code",
   "execution_count": 13,
   "id": "c6f78e5e",
   "metadata": {},
   "outputs": [
    {
     "name": "stdout",
     "output_type": "stream",
     "text": [
      "['Mango', 'Grapes', 'Apple']\n"
     ]
    }
   ],
   "source": [
    "#How to get a new list with specified items by specifying range of indexes?\n",
    "list1 = [\"Pineapple\",\"Mango\",\"Grapes\",\"Apple\",\"Watermelon\"]\n",
    "print(list1[1:4])\n",
    "#The search will start at index 1 (included) and end at index 4 (not included)."
   ]
  },
  {
   "cell_type": "code",
   "execution_count": 18,
   "id": "8a533a3e",
   "metadata": {},
   "outputs": [
    {
     "name": "stdout",
     "output_type": "stream",
     "text": [
      "['Pineapple', 'Mango', 'Grapes', 'Apple']\n"
     ]
    }
   ],
   "source": [
    "list1 = [\"Pineapple\",\"Mango\",\"Grapes\",\"Apple\",\"Watermelon\"]\n",
    "print(list1[:4])\n",
    "#This will return the items from index 0 to index 4."
   ]
  },
  {
   "cell_type": "code",
   "execution_count": 19,
   "id": "0d13961d",
   "metadata": {},
   "outputs": [
    {
     "name": "stdout",
     "output_type": "stream",
     "text": [
      "['Grapes', 'Apple', 'Watermelon']\n"
     ]
    }
   ],
   "source": [
    "list1 = [\"Pineapple\",\"Mango\",\"Grapes\",\"Apple\",\"Watermelon\"]\n",
    "print(list1[2:])\n",
    "#This will return the items from index 2 to end."
   ]
  },
  {
   "cell_type": "code",
   "execution_count": 20,
   "id": "c0ce040e",
   "metadata": {},
   "outputs": [
    {
     "name": "stdout",
     "output_type": "stream",
     "text": [
      "['Mango', 'Grapes', 'Apple']\n"
     ]
    }
   ],
   "source": [
    "list1 = [\"Pineapple\",\"Mango\",\"Grapes\",\"Apple\",\"Watermelon\"]\n",
    "print(list1[-4:-1])\n",
    "#This will return the items from index -4 (included) to -1 (excluded)."
   ]
  },
  {
   "cell_type": "code",
   "execution_count": 25,
   "id": "664f8619",
   "metadata": {},
   "outputs": [
    {
     "name": "stdout",
     "output_type": "stream",
     "text": [
      "yes\n"
     ]
    }
   ],
   "source": [
    "#check items in the list if exist\n",
    "list1 = [\"Pineapple\",\"Mango\",\"Grapes\",\"Apple\",\"Watermelon\"]\n",
    "if \"Grapes\" in list1:\n",
    "\tprint(\"yes\")"
   ]
  },
  {
   "cell_type": "markdown",
   "id": "24a22558",
   "metadata": {},
   "source": [
    "# Change Item Value"
   ]
  },
  {
   "cell_type": "code",
   "execution_count": 26,
   "id": "586c97bb",
   "metadata": {},
   "outputs": [
    {
     "name": "stdout",
     "output_type": "stream",
     "text": [
      "['Pineapple', 'Cherry', 'Grapes', 'Apple', 'Watermelon']\n"
     ]
    }
   ],
   "source": [
    "list1 = [\"Pineapple\",\"Mango\",\"Grapes\",\"Apple\",\"Watermelon\"]\n",
    "list1[1] = \"Cherry\"\n",
    "print(list1)"
   ]
  },
  {
   "cell_type": "markdown",
   "id": "ea4d6a99",
   "metadata": {},
   "source": [
    "# Insert Items"
   ]
  },
  {
   "cell_type": "code",
   "execution_count": 29,
   "id": "504e2950",
   "metadata": {},
   "outputs": [
    {
     "name": "stdout",
     "output_type": "stream",
     "text": [
      "['Pineapple', 'Mango', 'Grapes', 'Cherry', 'Apple', 'Watermelon']\n"
     ]
    }
   ],
   "source": [
    "list1 = [\"Pineapple\",\"Mango\",\"Grapes\",\"Apple\",\"Watermelon\"]\n",
    "list1.insert(3,\"Cherry\")\n",
    "print(list1)"
   ]
  },
  {
   "cell_type": "markdown",
   "id": "5d6eed01",
   "metadata": {},
   "source": [
    "# Add Items"
   ]
  },
  {
   "cell_type": "code",
   "execution_count": 30,
   "id": "8da0dab7",
   "metadata": {},
   "outputs": [
    {
     "name": "stdout",
     "output_type": "stream",
     "text": [
      "['Pineapple', 'Mango', 'Grapes', 'Apple', 'Watermelon', 'Orange']\n"
     ]
    }
   ],
   "source": [
    "# Using append() method\n",
    "list1 = [\"Pineapple\",\"Mango\",\"Grapes\",\"Apple\",\"Watermelon\"]\n",
    "list1.append(\"Orange\")\n",
    "print(list1)"
   ]
  },
  {
   "cell_type": "code",
   "execution_count": 33,
   "id": "72ebad12",
   "metadata": {},
   "outputs": [
    {
     "name": "stdout",
     "output_type": "stream",
     "text": [
      "['Pineapple', 'Mango', 'Grapes', 'Apple', 'Watermelon', 'Papaya', 'Banana', 'Kiwi', 'Orange']\n"
     ]
    }
   ],
   "source": [
    "list1 = [\"Pineapple\",\"Mango\",\"Grapes\",\"Apple\",\"Watermelon\"]\n",
    "list2 = [\"Papaya\",\"Banana\",\"Kiwi\",\"Orange\"]\n",
    "list1.extend(list2)\n",
    "print(list1)"
   ]
  },
  {
   "cell_type": "markdown",
   "id": "9e14e9fd",
   "metadata": {},
   "source": [
    "# Remove Items"
   ]
  },
  {
   "cell_type": "code",
   "execution_count": 34,
   "id": "40bb1f45",
   "metadata": {},
   "outputs": [
    {
     "name": "stdout",
     "output_type": "stream",
     "text": [
      "['Pineapple', 'Mango', 'Apple', 'Watermelon']\n"
     ]
    }
   ],
   "source": [
    "# using remove() method\n",
    "list1 = [\"Pineapple\",\"Mango\",\"Grapes\",\"Apple\",\"Watermelon\"]\n",
    "list1.remove(\"Grapes\")\n",
    "print(list1)"
   ]
  },
  {
   "cell_type": "code",
   "execution_count": 35,
   "id": "98d143db",
   "metadata": {},
   "outputs": [
    {
     "name": "stdout",
     "output_type": "stream",
     "text": [
      "['Pineapple', 'Grapes', 'Apple', 'Watermelon']\n"
     ]
    }
   ],
   "source": [
    "# using pop() method\n",
    "list1 = [\"Pineapple\",\"Mango\",\"Grapes\",\"Apple\",\"Watermelon\"]\n",
    "list1.pop(1)\n",
    "print(list1)"
   ]
  },
  {
   "cell_type": "code",
   "execution_count": 38,
   "id": "54170664",
   "metadata": {},
   "outputs": [
    {
     "name": "stdout",
     "output_type": "stream",
     "text": [
      "['Pineapple', 'Mango', 'Grapes', 'Watermelon']\n"
     ]
    }
   ],
   "source": [
    "# using del keyword\n",
    "list1 = [\"Pineapple\",\"Mango\",\"Grapes\",\"Apple\",\"Watermelon\"]\n",
    "del list1[3]\n",
    "print(list1)"
   ]
  },
  {
   "cell_type": "markdown",
   "id": "9f31df54",
   "metadata": {},
   "source": [
    "# Tuple"
   ]
  },
  {
   "cell_type": "markdown",
   "id": "e1e12df1",
   "metadata": {},
   "source": [
    "* Store multiple items in a single variable.\n",
    "* It is ordered, allow duplicates and unchangeable.\n",
    "* Written with round brackets."
   ]
  },
  {
   "cell_type": "code",
   "execution_count": 2,
   "id": "82150a07",
   "metadata": {},
   "outputs": [
    {
     "name": "stdout",
     "output_type": "stream",
     "text": [
      "('Pineapple', 'Mango', 'Grapes', 'Apple', 'Watermelon')\n"
     ]
    }
   ],
   "source": [
    "tuple1 = (\"Pineapple\",\"Mango\",\"Grapes\",\"Apple\",\"Watermelon\")\n",
    "print(tuple1)"
   ]
  },
  {
   "cell_type": "code",
   "execution_count": 3,
   "id": "93c28cf5",
   "metadata": {},
   "outputs": [
    {
     "name": "stdout",
     "output_type": "stream",
     "text": [
      "5\n"
     ]
    }
   ],
   "source": [
    "tuple1 = (\"Pineapple\",\"Mango\",\"Grapes\",\"Apple\",\"Watermelon\")\n",
    "print(len(tuple1))"
   ]
  },
  {
   "cell_type": "code",
   "execution_count": 4,
   "id": "0aaba656",
   "metadata": {},
   "outputs": [
    {
     "name": "stdout",
     "output_type": "stream",
     "text": [
      "<class 'tuple'>\n"
     ]
    }
   ],
   "source": [
    "tuple1 = (\"Pineapple\",\"Mango\",\"Grapes\",\"Apple\",\"Watermelon\")\n",
    "print(type(tuple1))"
   ]
  },
  {
   "cell_type": "markdown",
   "id": "b8173d4f",
   "metadata": {},
   "source": [
    "# Access Tuples"
   ]
  },
  {
   "cell_type": "code",
   "execution_count": 6,
   "id": "dab3837d",
   "metadata": {},
   "outputs": [
    {
     "name": "stdout",
     "output_type": "stream",
     "text": [
      "Watermelon\n"
     ]
    }
   ],
   "source": [
    "tuple1 = (\"Pineapple\",\"Mango\",\"Grapes\",\"Apple\",\"Watermelon\")\n",
    "print(tuple1[4])"
   ]
  },
  {
   "cell_type": "code",
   "execution_count": 7,
   "id": "82bca80b",
   "metadata": {},
   "outputs": [
    {
     "name": "stdout",
     "output_type": "stream",
     "text": [
      "Grapes\n"
     ]
    }
   ],
   "source": [
    "tuple1 = (\"Pineapple\",\"Mango\",\"Grapes\",\"Apple\",\"Watermelon\")\n",
    "print(tuple1[-3])"
   ]
  },
  {
   "cell_type": "code",
   "execution_count": 8,
   "id": "52febbfa",
   "metadata": {},
   "outputs": [
    {
     "name": "stdout",
     "output_type": "stream",
     "text": [
      "('Apple', 'Watermelon')\n"
     ]
    }
   ],
   "source": [
    "tuple1 = (\"Pineapple\",\"Mango\",\"Grapes\",\"Apple\",\"Watermelon\")\n",
    "print(tuple1[3:5])"
   ]
  },
  {
   "cell_type": "code",
   "execution_count": 9,
   "id": "f82842a0",
   "metadata": {},
   "outputs": [
    {
     "name": "stdout",
     "output_type": "stream",
     "text": [
      "('Pineapple', 'Mango', 'Grapes')\n"
     ]
    }
   ],
   "source": [
    "tuple1 = (\"Pineapple\",\"Mango\",\"Grapes\",\"Apple\",\"Watermelon\")\n",
    "print(tuple1[:3])"
   ]
  },
  {
   "cell_type": "markdown",
   "id": "2a76b163",
   "metadata": {},
   "source": [
    "# Update Tuple"
   ]
  },
  {
   "cell_type": "code",
   "execution_count": 10,
   "id": "e25602e6",
   "metadata": {},
   "outputs": [
    {
     "name": "stdout",
     "output_type": "stream",
     "text": [
      "('Pineapple', 'Mango', 'Grapes', 'Cherry', 'Watermelon')\n"
     ]
    }
   ],
   "source": [
    "tuple1 = (\"Pineapple\",\"Mango\",\"Grapes\",\"Apple\",\"Watermelon\")\n",
    "a = list(tuple1)\n",
    "a[3] = \"Cherry\"\n",
    "tuple1 = tuple(a)\n",
    "print(tuple1)"
   ]
  },
  {
   "cell_type": "code",
   "execution_count": 12,
   "id": "ebb5dc26",
   "metadata": {},
   "outputs": [
    {
     "name": "stdout",
     "output_type": "stream",
     "text": [
      "('Pineapple', 'Mango', 'Grapes', 'Apple', 'Watermelon', 'Cherry')\n"
     ]
    }
   ],
   "source": [
    "tuple1 = (\"Pineapple\",\"Mango\",\"Grapes\",\"Apple\",\"Watermelon\")\n",
    "a = list(tuple1)\n",
    "a.append(\"Cherry\")\n",
    "tuple1 = tuple(a)\n",
    "print(tuple1)"
   ]
  },
  {
   "cell_type": "markdown",
   "id": "94c3d941",
   "metadata": {},
   "source": [
    "# Remove Items from tuple"
   ]
  },
  {
   "cell_type": "code",
   "execution_count": 13,
   "id": "fe618eda",
   "metadata": {},
   "outputs": [
    {
     "name": "stdout",
     "output_type": "stream",
     "text": [
      "('Pineapple', 'Mango', 'Apple', 'Watermelon')\n"
     ]
    }
   ],
   "source": [
    "tuple1 = (\"Pineapple\",\"Mango\",\"Grapes\",\"Apple\",\"Watermelon\")\n",
    "a = list(tuple1)\n",
    "a.remove(\"Grapes\")\n",
    "tuple1 = tuple(a)\n",
    "print(tuple1)"
   ]
  },
  {
   "cell_type": "markdown",
   "id": "c63833cc",
   "metadata": {},
   "source": [
    "# Set"
   ]
  },
  {
   "cell_type": "markdown",
   "id": "cc3b11e6",
   "metadata": {},
   "source": [
    "* Store multiple items in a single variable.\n",
    "* It is unordered, unchangeable, doesn't allow duplicates and is unindexed.\n",
    "* Written with curly brackets."
   ]
  },
  {
   "cell_type": "code",
   "execution_count": 15,
   "id": "7e3e6722",
   "metadata": {},
   "outputs": [
    {
     "name": "stdout",
     "output_type": "stream",
     "text": [
      "{'Mango', 'Watermelon', 'Pineapple', 'Grapes', 'Apple'}\n"
     ]
    }
   ],
   "source": [
    "set1 = {\"Pineapple\",\"Mango\",\"Grapes\",\"Apple\",\"Watermelon\"}\n",
    "print(set1)"
   ]
  },
  {
   "cell_type": "code",
   "execution_count": 16,
   "id": "8f8c75f8",
   "metadata": {},
   "outputs": [
    {
     "name": "stdout",
     "output_type": "stream",
     "text": [
      "5\n"
     ]
    }
   ],
   "source": [
    "set1 = {\"Pineapple\",\"Mango\",\"Grapes\",\"Apple\",\"Watermelon\"}\n",
    "print(len(set1))"
   ]
  },
  {
   "cell_type": "code",
   "execution_count": 17,
   "id": "8a87322a",
   "metadata": {},
   "outputs": [
    {
     "name": "stdout",
     "output_type": "stream",
     "text": [
      "<class 'set'>\n"
     ]
    }
   ],
   "source": [
    "set1 = {\"Pineapple\",\"Mango\",\"Grapes\",\"Apple\",\"Watermelon\"}\n",
    "print(type(set1))"
   ]
  },
  {
   "cell_type": "code",
   "execution_count": 18,
   "id": "ef1e6085",
   "metadata": {},
   "outputs": [
    {
     "name": "stdout",
     "output_type": "stream",
     "text": [
      "Mango\n",
      "Watermelon\n",
      "Pineapple\n",
      "Grapes\n",
      "Apple\n"
     ]
    }
   ],
   "source": [
    "set1 = {\"Pineapple\",\"Mango\",\"Grapes\",\"Apple\",\"Watermelon\"}\n",
    "for x in set1:\n",
    "    print(x)"
   ]
  },
  {
   "cell_type": "code",
   "execution_count": 19,
   "id": "bac8f414",
   "metadata": {},
   "outputs": [
    {
     "name": "stdout",
     "output_type": "stream",
     "text": [
      "True\n"
     ]
    }
   ],
   "source": [
    "set1 = {\"Pineapple\",\"Mango\",\"Grapes\",\"Apple\",\"Watermelon\"}\n",
    "print(\"Mango\" in set1)"
   ]
  },
  {
   "cell_type": "markdown",
   "id": "445773c5",
   "metadata": {},
   "source": [
    "# Update Set"
   ]
  },
  {
   "cell_type": "code",
   "execution_count": 20,
   "id": "24cf9b8d",
   "metadata": {},
   "outputs": [
    {
     "name": "stdout",
     "output_type": "stream",
     "text": [
      "{'Mango', 'Cherry', 'Watermelon', 'Pineapple', 'Grapes', 'Apple'}\n"
     ]
    }
   ],
   "source": [
    "set1 = {\"Pineapple\",\"Mango\",\"Grapes\",\"Apple\",\"Watermelon\"}\n",
    "set1.add(\"Cherry\")\n",
    "print(set1)"
   ]
  },
  {
   "cell_type": "code",
   "execution_count": 21,
   "id": "9e2a3898",
   "metadata": {},
   "outputs": [
    {
     "name": "stdout",
     "output_type": "stream",
     "text": [
      "{'Mango', 'Orange', 'Papaya', 'Cherry', 'Watermelon', 'Pineapple', 'Grapes', 'Apple'}\n"
     ]
    }
   ],
   "source": [
    "set1 = {\"Pineapple\",\"Mango\",\"Grapes\",\"Apple\",\"Watermelon\"}\n",
    "set2 = {\"Orange\",\"Cherry\",\"Papaya\"}\n",
    "set1.update(set2)\n",
    "print(set1)"
   ]
  },
  {
   "cell_type": "markdown",
   "id": "0b6236d0",
   "metadata": {},
   "source": [
    "# Remove items from the Set"
   ]
  },
  {
   "cell_type": "code",
   "execution_count": 22,
   "id": "b65b5a40",
   "metadata": {},
   "outputs": [
    {
     "name": "stdout",
     "output_type": "stream",
     "text": [
      "{'Watermelon', 'Pineapple', 'Grapes', 'Apple'}\n"
     ]
    }
   ],
   "source": [
    "set1 = {\"Pineapple\",\"Mango\",\"Grapes\",\"Apple\",\"Watermelon\"}\n",
    "set1.remove(\"Mango\")\n",
    "print(set1)"
   ]
  },
  {
   "cell_type": "code",
   "execution_count": 23,
   "id": "fa9b7778",
   "metadata": {},
   "outputs": [
    {
     "name": "stdout",
     "output_type": "stream",
     "text": [
      "{'Watermelon', 'Pineapple', 'Grapes', 'Apple'}\n"
     ]
    }
   ],
   "source": [
    "set1 = {\"Pineapple\",\"Mango\",\"Grapes\",\"Apple\",\"Watermelon\"}\n",
    "set1.discard(\"Mango\")\n",
    "print(set1)"
   ]
  },
  {
   "cell_type": "code",
   "execution_count": 25,
   "id": "7a2ce53c",
   "metadata": {},
   "outputs": [
    {
     "name": "stdout",
     "output_type": "stream",
     "text": [
      "{'Watermelon', 'Pineapple', 'Grapes', 'Apple'}\n"
     ]
    }
   ],
   "source": [
    "set1 = {\"Pineapple\",\"Mango\",\"Grapes\",\"Apple\",\"Watermelon\"}\n",
    "set1.pop()\n",
    "print(set1)"
   ]
  },
  {
   "cell_type": "code",
   "execution_count": 26,
   "id": "5a63dde0",
   "metadata": {},
   "outputs": [
    {
     "name": "stdout",
     "output_type": "stream",
     "text": [
      "set()\n"
     ]
    }
   ],
   "source": [
    "set1 = {\"Pineapple\",\"Mango\",\"Grapes\",\"Apple\",\"Watermelon\"}\n",
    "set1.clear()\n",
    "print(set1)"
   ]
  }
 ],
 "metadata": {
  "kernelspec": {
   "display_name": "Python 3 (ipykernel)",
   "language": "python",
   "name": "python3"
  },
  "language_info": {
   "codemirror_mode": {
    "name": "ipython",
    "version": 3
   },
   "file_extension": ".py",
   "mimetype": "text/x-python",
   "name": "python",
   "nbconvert_exporter": "python",
   "pygments_lexer": "ipython3",
   "version": "3.9.12"
  }
 },
 "nbformat": 4,
 "nbformat_minor": 5
}
