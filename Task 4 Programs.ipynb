{
 "cells": [
  {
   "cell_type": "code",
   "execution_count": 5,
   "id": "fa719e58",
   "metadata": {},
   "outputs": [
    {
     "name": "stdout",
     "output_type": "stream",
     "text": [
      "[9, 2, 5, 7, 1, 4]\n"
     ]
    }
   ],
   "source": [
    "#1.Given a list, write a Python function to swap first and last element of the list.\n",
    "l = [4,2,5,7,1,9]\n",
    "a = l[-1]\n",
    "l[-1] = l[0]\n",
    "l[0] = a\n",
    "print(l)"
   ]
  },
  {
   "cell_type": "code",
   "execution_count": 6,
   "id": "77d2884e",
   "metadata": {},
   "outputs": [
    {
     "name": "stdout",
     "output_type": "stream",
     "text": [
      "[3, 6, 8, 9, 5, 2]\n"
     ]
    }
   ],
   "source": [
    "#Using User Defined Function\n",
    "def swap(l):\n",
    "    a = l[-1]\n",
    "    l[-1] = l[0]\n",
    "    l[0] = a\n",
    "l = [2,6,8,9,5,3]\n",
    "swap(l)\n",
    "print(l)"
   ]
  },
  {
   "cell_type": "code",
   "execution_count": 7,
   "id": "1ca63470",
   "metadata": {},
   "outputs": [
    {
     "name": "stdout",
     "output_type": "stream",
     "text": [
      "11\n"
     ]
    }
   ],
   "source": [
    "#2.write funtion count length of string\n",
    "def name(n):\n",
    "    y = 0\n",
    "    for x in n:\n",
    "            y += 1\n",
    "    return y\n",
    "n = 'RajasZelkar'\n",
    "print(name(n))\n"
   ]
  },
  {
   "cell_type": "code",
   "execution_count": 8,
   "id": "2eb2ba28",
   "metadata": {},
   "outputs": [
    {
     "name": "stdout",
     "output_type": "stream",
     "text": [
      "26\n"
     ]
    }
   ],
   "source": [
    "#3.Write a Python program to get the sum of a only non-negative integer.\n",
    "def sum(l):\n",
    "    sum = 0\n",
    "    for x in l:\n",
    "        if x > 0:\n",
    "            sum += x\n",
    "        else:\n",
    "            continue\n",
    "    return sum\n",
    "l = [2,-4,7,2,-6,9,-1,-8,6,-3]\n",
    "print(sum(l))"
   ]
  },
  {
   "cell_type": "code",
   "execution_count": 9,
   "id": "edd9b52f",
   "metadata": {},
   "outputs": [
    {
     "name": "stdout",
     "output_type": "stream",
     "text": [
      "120\n"
     ]
    }
   ],
   "source": [
    "#4.write functioon of factorial , ex. fact(3) ans 6 (3*2*1)\n",
    "def fact(x):\n",
    "    m=1\n",
    "    while x > 0:\n",
    "        m = m * x\n",
    "        x -= 1\n",
    "    return m\n",
    "print(fact(5))"
   ]
  },
  {
   "cell_type": "code",
   "execution_count": 10,
   "id": "ef5f0714",
   "metadata": {},
   "outputs": [
    {
     "name": "stdout",
     "output_type": "stream",
     "text": [
      "[3, 7, 6, 5, 3, 2]\n"
     ]
    }
   ],
   "source": [
    "#reverse without using reverse method\n",
    "t = (2,3,5,6,7,3)\n",
    "a = []\n",
    "for x in t:\n",
    "    a.insert(0,x)\n",
    "print(a)"
   ]
  },
  {
   "cell_type": "code",
   "execution_count": null,
   "id": "48e7029f",
   "metadata": {},
   "outputs": [],
   "source": []
  }
 ],
 "metadata": {
  "kernelspec": {
   "display_name": "Python 3 (ipykernel)",
   "language": "python",
   "name": "python3"
  },
  "language_info": {
   "codemirror_mode": {
    "name": "ipython",
    "version": 3
   },
   "file_extension": ".py",
   "mimetype": "text/x-python",
   "name": "python",
   "nbconvert_exporter": "python",
   "pygments_lexer": "ipython3",
   "version": "3.9.12"
  }
 },
 "nbformat": 4,
 "nbformat_minor": 5
}
