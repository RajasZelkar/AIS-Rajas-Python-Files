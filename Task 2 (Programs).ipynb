{
 "cells": [
  {
   "cell_type": "code",
   "execution_count": 12,
   "id": "13a88aea",
   "metadata": {},
   "outputs": [
    {
     "name": "stdout",
     "output_type": "stream",
     "text": [
      "[1, 2, 3, 4, 5, 6, 7, 8, 9, 10, 11, 12, 13, 14, 15, 16, 17, 18, 19, 20]\n"
     ]
    }
   ],
   "source": [
    "# Write code: creat list of 1 to 20 numbers using for loop. E.x [1,2,3,4….20]\n",
    "a = []\n",
    "for x in range(1,21):\n",
    "    a.append(x)\n",
    "print(a)\n"
   ]
  },
  {
   "cell_type": "code",
   "execution_count": 12,
   "id": "629bb601",
   "metadata": {},
   "outputs": [
    {
     "name": "stdout",
     "output_type": "stream",
     "text": [
      "[20, 19, 18, 17, 16, 15, 14, 13, 12, 11, 10, 9, 8, 7, 6, 5, 4, 3, 2, 1, 0]\n"
     ]
    }
   ],
   "source": [
    "# Create list of 20 to 0 numbers using while loop. E.x [20,19,…..1,0]\n",
    "a = []\n",
    "b = 20\n",
    "while 0 <= b:\n",
    "    a.append(b)\n",
    "    b = b - 1\n",
    "print(a)"
   ]
  },
  {
   "cell_type": "code",
   "execution_count": 14,
   "id": "779e2aef",
   "metadata": {},
   "outputs": [
    {
     "name": "stdout",
     "output_type": "stream",
     "text": [
      "You got B grade\n"
     ]
    }
   ],
   "source": [
    "# Write  conditional loop for checking grades o,A,b,c and fail \n",
    "m = 74\n",
    "if(m>=90):\n",
    "    print(\"You got O Grade\")\n",
    "elif(m>=80):\n",
    "    print(\"You got A grade\")\n",
    "elif(m>=60):\n",
    "    print(\"You got B grade\")\n",
    "elif(m>=40):\n",
    "    print(\"You got C grade\")\n",
    "else:\n",
    "    print(\"Failed in this Exam \")"
   ]
  },
  {
   "cell_type": "code",
   "execution_count": 1,
   "id": "94ac5be6",
   "metadata": {},
   "outputs": [
    {
     "name": "stdout",
     "output_type": "stream",
     "text": [
      "Number is Prime\n"
     ]
    }
   ],
   "source": [
    "# Write  conditional loop for Prime number\n",
    "num = 29\n",
    "if num > 1:\n",
    "    for i in range(2, num):\n",
    "        if(num % i) == 0:\n",
    "            print('Number is not Prime')\n",
    "            break\n",
    "    else:\n",
    "        print('Number is Prime')\n",
    "\n"
   ]
  },
  {
   "cell_type": "code",
   "execution_count": 20,
   "id": "cf7ef592",
   "metadata": {},
   "outputs": [
    {
     "name": "stdout",
     "output_type": "stream",
     "text": [
      "1\n",
      "3\n",
      "5\n",
      "7\n",
      "9\n"
     ]
    }
   ],
   "source": [
    "# Write  “for loop” for printing odd value using continue statement (Don’t use range step parameter)\n",
    "for x in range(1,10):\n",
    "    if (x%2!=0):\n",
    "        print(x)\n",
    "    else:\n",
    "        continue"
   ]
  },
  {
   "cell_type": "code",
   "execution_count": 21,
   "id": "10b4dbf9",
   "metadata": {},
   "outputs": [
    {
     "name": "stdout",
     "output_type": "stream",
     "text": [
      "A1\n",
      "B2\n",
      "C3\n",
      "D4\n",
      "E5\n",
      "F6\n",
      "G7\n",
      "H8\n",
      "I9\n",
      "J10\n",
      "K11\n",
      "L12\n",
      "M13\n",
      "N14\n",
      "O15\n",
      "P16\n",
      "Q17\n",
      "R18\n",
      "S19\n",
      "T20\n",
      "U21\n",
      "V22\n",
      "W23\n",
      "X24\n",
      "Y25\n",
      "Z26\n"
     ]
    }
   ],
   "source": [
    "# Write code need given ans A1 B2 C3 .. Z26\n",
    "for i in range(0,26):\n",
    "    print(chr(65+i)+str(i+1))"
   ]
  },
  {
   "cell_type": "code",
   "execution_count": 32,
   "id": "2ccd5640",
   "metadata": {},
   "outputs": [
    {
     "name": "stdout",
     "output_type": "stream",
     "text": [
      "(5, 6, 4, 2, 3, 1)\n"
     ]
    }
   ],
   "source": [
    "# Write code reverse to given tuple (don’t use reverse method ) T=(1,3,2,4,6,5)\n",
    "T = (1,3,2,4,6,5)\n",
    "a = []\n",
    "b = -1\n",
    "for x in T:\n",
    "    a.append(T[b])\n",
    "    b = b - 1\n",
    "T = tuple(a)\n",
    "print(T)"
   ]
  },
  {
   "cell_type": "code",
   "execution_count": 64,
   "id": "9bcb075a",
   "metadata": {},
   "outputs": [
    {
     "name": "stdout",
     "output_type": "stream",
     "text": [
      "Python\n",
      "s\n",
      "t\n",
      "a\n",
      "t\n",
      "I\n",
      "Python\n",
      "s\n",
      "T\n",
      "I\n",
      "c\n",
      "Python\n",
      "s\n"
     ]
    }
   ],
   "source": [
    "#Write code print “statistics” like that \n",
    "#Python\n",
    "#s\n",
    "#t\n",
    "#a\n",
    "#t\n",
    "#I\n",
    "#Python\n",
    "#s\n",
    "#T\n",
    "#I\n",
    "#c\n",
    "#Python\n",
    "#s\n",
    "\n",
    "a = 'statIsTIcs'\n",
    "n=0\n",
    "m=5\n",
    "for x in range(0,3):\n",
    "    print(\"Python\")\n",
    "    for y in range(n,m):\n",
    "        print(a[y])\n",
    "    n = m\n",
    "    m = 9\n",
    "    if n==9:\n",
    "        m=10\n",
    "        \n"
   ]
  },
  {
   "cell_type": "code",
   "execution_count": 65,
   "id": "776ecbcf",
   "metadata": {},
   "outputs": [
    {
     "name": "stdout",
     "output_type": "stream",
     "text": [
      "Python\n",
      "s\n",
      "t\n",
      "a\n",
      "t\n",
      "I\n",
      "Python\n",
      "s\n",
      "T\n",
      "I\n",
      "c\n",
      "Python\n",
      "s\n"
     ]
    }
   ],
   "source": [
    "a = 'statIsTIcs'\n",
    "for i in a:\n",
    "    if i =='s':\n",
    "        print(\"Python\")\n",
    "    print(i)"
   ]
  },
  {
   "cell_type": "code",
   "execution_count": 71,
   "id": "1e8c8307",
   "metadata": {},
   "outputs": [
    {
     "name": "stdout",
     "output_type": "stream",
     "text": [
      "Python\n",
      "s\n",
      "t\n",
      "a\n",
      "t\n",
      "i\n",
      "Python\n",
      "s\n",
      "t\n",
      "i\n",
      "c\n",
      "Python\n",
      "s\n"
     ]
    }
   ],
   "source": [
    "a = 'statistics'\n",
    "for x in range(len(a)):\n",
    "    if a[x]=='s':\n",
    "        pass\n",
    "        print(\"Python\")\n",
    "    print(a[x])\n",
    "    "
   ]
  },
  {
   "cell_type": "code",
   "execution_count": 75,
   "id": "152b179f",
   "metadata": {},
   "outputs": [
    {
     "name": "stdout",
     "output_type": "stream",
     "text": [
      "a\n",
      "b\n",
      "c\n",
      "d\n",
      "e\n",
      "f\n"
     ]
    }
   ],
   "source": [
    "# alpha= [a,b,c,d,e,f,g,h,i]\n",
    "#Print every word and stop iteration after getting g ltr\n",
    "alpha= ['a','b','c','d','e','f','g','h','i']\n",
    "for x in alpha:\n",
    "    if(x=='g'):\n",
    "        break\n",
    "    else:\n",
    "        print(x)"
   ]
  }
 ],
 "metadata": {
  "kernelspec": {
   "display_name": "Python 3 (ipykernel)",
   "language": "python",
   "name": "python3"
  },
  "language_info": {
   "codemirror_mode": {
    "name": "ipython",
    "version": 3
   },
   "file_extension": ".py",
   "mimetype": "text/x-python",
   "name": "python",
   "nbconvert_exporter": "python",
   "pygments_lexer": "ipython3",
   "version": "3.9.12"
  }
 },
 "nbformat": 4,
 "nbformat_minor": 5
}
